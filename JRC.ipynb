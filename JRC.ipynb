{
  "nbformat": 4,
  "nbformat_minor": 0,
  "metadata": {
    "colab": {
      "provenance": [],
      "authorship_tag": "ABX9TyNBR2fZHHN2t92QM+Trp7Bh",
      "include_colab_link": true
    },
    "kernelspec": {
      "name": "python3",
      "display_name": "Python 3"
    },
    "language_info": {
      "name": "python"
    }
  },
  "cells": [
    {
      "cell_type": "markdown",
      "metadata": {
        "id": "view-in-github",
        "colab_type": "text"
      },
      "source": [
        "<a href=\"https://colab.research.google.com/github/costpetrides/FAIRMODE-WG5/blob/main/JRC.ipynb\" target=\"_parent\"><img src=\"https://colab.research.google.com/assets/colab-badge.svg\" alt=\"Open In Colab\"/></a>"
      ]
    },
    {
      "cell_type": "code",
      "source": [
        "pip install netCDF4"
      ],
      "metadata": {
        "colab": {
          "base_uri": "https://localhost:8080/"
        },
        "id": "jx_vvISCAhX5",
        "outputId": "3ab3d140-cf42-40e0-e3b1-9245d8d410df"
      },
      "execution_count": 2,
      "outputs": [
        {
          "output_type": "stream",
          "name": "stdout",
          "text": [
            "Collecting netCDF4\n",
            "  Downloading netCDF4-1.7.2-cp311-cp311-manylinux_2_17_x86_64.manylinux2014_x86_64.whl.metadata (1.8 kB)\n",
            "Collecting cftime (from netCDF4)\n",
            "  Downloading cftime-1.6.4.post1-cp311-cp311-manylinux_2_17_x86_64.manylinux2014_x86_64.whl.metadata (8.7 kB)\n",
            "Requirement already satisfied: certifi in /usr/local/lib/python3.11/dist-packages (from netCDF4) (2025.1.31)\n",
            "Requirement already satisfied: numpy in /usr/local/lib/python3.11/dist-packages (from netCDF4) (2.0.2)\n",
            "Downloading netCDF4-1.7.2-cp311-cp311-manylinux_2_17_x86_64.manylinux2014_x86_64.whl (9.3 MB)\n",
            "\u001b[2K   \u001b[90m━━━━━━━━━━━━━━━━━━━━━━━━━━━━━━━━━━━━━━━━\u001b[0m \u001b[32m9.3/9.3 MB\u001b[0m \u001b[31m84.2 MB/s\u001b[0m eta \u001b[36m0:00:00\u001b[0m\n",
            "\u001b[?25hDownloading cftime-1.6.4.post1-cp311-cp311-manylinux_2_17_x86_64.manylinux2014_x86_64.whl (1.4 MB)\n",
            "\u001b[2K   \u001b[90m━━━━━━━━━━━━━━━━━━━━━━━━━━━━━━━━━━━━━━━━\u001b[0m \u001b[32m1.4/1.4 MB\u001b[0m \u001b[31m58.0 MB/s\u001b[0m eta \u001b[36m0:00:00\u001b[0m\n",
            "\u001b[?25hInstalling collected packages: cftime, netCDF4\n",
            "Successfully installed cftime-1.6.4.post1 netCDF4-1.7.2\n"
          ]
        }
      ]
    },
    {
      "cell_type": "code",
      "execution_count": 6,
      "metadata": {
        "colab": {
          "base_uri": "https://localhost:8080/"
        },
        "id": "_dMTZba8-K7O",
        "outputId": "eddb4d3c-2dfe-4612-f4fb-8b9adc97fece"
      },
      "outputs": [
        {
          "output_type": "stream",
          "name": "stdout",
          "text": [
            "\n",
            "Processing: BaseCase_UoA_NO2_SCA.Neigh.Add.XGB_CORR_YEARLY.nc\n",
            "  🔄 Reshaping SURF_ug_NO2: ('lon', 'lat', 'time') -> ('time', 'lat', 'lon')\n",
            "  ⚠ SURF_ppb_O3 not found in BaseCase_UoA_NO2_SCA.Neigh.Add.XGB_CORR_YEARLY.nc. Skipping this variable.\n",
            "  ⚠ SURF_ug_PM25_rh50 not found in BaseCase_UoA_NO2_SCA.Neigh.Add.XGB_CORR_YEARLY.nc. Skipping this variable.\n",
            "  📦 File written to: /content/Results/BaseCase_UoA_NO2_SCA.Neigh.Add.XGB_CORR_YEARLY.nc\n",
            "\n",
            "Processing: BaseCase_UoA_O3_SCA.Neigh.Add.XGB_CORR_YEARLY.nc\n",
            "  ⚠ SURF_ug_NO2 not found in BaseCase_UoA_O3_SCA.Neigh.Add.XGB_CORR_YEARLY.nc. Skipping this variable.\n",
            "  🔄 Reshaping SURF_ppb_O3: ('lon', 'lat', 'time') -> ('time', 'lat', 'lon')\n",
            "  ⚠ SURF_ug_PM25_rh50 not found in BaseCase_UoA_O3_SCA.Neigh.Add.XGB_CORR_YEARLY.nc. Skipping this variable.\n",
            "  📦 File written to: /content/Results/BaseCase_UoA_O3_SCA.Neigh.Add.XGB_CORR_YEARLY.nc\n",
            "\n",
            "Processing: Scen_UoA_NO2_SCA.Neigh.Add.XGB_CORR_YEARLY.nc\n",
            "  🔄 Reshaping SURF_ug_NO2: ('lon', 'lat', 'time') -> ('time', 'lat', 'lon')\n",
            "  ⚠ SURF_ppb_O3 not found in Scen_UoA_NO2_SCA.Neigh.Add.XGB_CORR_YEARLY.nc. Skipping this variable.\n",
            "  ⚠ SURF_ug_PM25_rh50 not found in Scen_UoA_NO2_SCA.Neigh.Add.XGB_CORR_YEARLY.nc. Skipping this variable.\n",
            "  📦 File written to: /content/Results/Scen_UoA_NO2_SCA.Neigh.Add.XGB_CORR_YEARLY.nc\n",
            "\n",
            "Processing: BaseCase_UoA_PM25_SCA.Neigh.Add.XGB_CORR_YEARLY.nc\n",
            "  ⚠ SURF_ug_NO2 not found in BaseCase_UoA_PM25_SCA.Neigh.Add.XGB_CORR_YEARLY.nc. Skipping this variable.\n",
            "  ⚠ SURF_ppb_O3 not found in BaseCase_UoA_PM25_SCA.Neigh.Add.XGB_CORR_YEARLY.nc. Skipping this variable.\n",
            "  🔄 Reshaping SURF_ug_PM25_rh50: ('lon', 'lat', 'time') -> ('time', 'lat', 'lon')\n",
            "  📦 File written to: /content/Results/BaseCase_UoA_PM25_SCA.Neigh.Add.XGB_CORR_YEARLY.nc\n",
            "\n",
            "Processing: Scen_UoA_O3_SCA.Neigh.Add.XGB_CORR_YEARLY.nc\n",
            "  ⚠ SURF_ug_NO2 not found in Scen_UoA_O3_SCA.Neigh.Add.XGB_CORR_YEARLY.nc. Skipping this variable.\n",
            "  🔄 Reshaping SURF_ppb_O3: ('lon', 'lat', 'time') -> ('time', 'lat', 'lon')\n",
            "  ⚠ SURF_ug_PM25_rh50 not found in Scen_UoA_O3_SCA.Neigh.Add.XGB_CORR_YEARLY.nc. Skipping this variable.\n",
            "  📦 File written to: /content/Results/Scen_UoA_O3_SCA.Neigh.Add.XGB_CORR_YEARLY.nc\n",
            "\n",
            "Processing: Scen_UoA_PM25_SCA.Neigh.Add.XGB_CORR_YEARLY.nc\n",
            "  ⚠ SURF_ug_NO2 not found in Scen_UoA_PM25_SCA.Neigh.Add.XGB_CORR_YEARLY.nc. Skipping this variable.\n",
            "  ⚠ SURF_ppb_O3 not found in Scen_UoA_PM25_SCA.Neigh.Add.XGB_CORR_YEARLY.nc. Skipping this variable.\n",
            "  🔄 Reshaping SURF_ug_PM25_rh50: ('lon', 'lat', 'time') -> ('time', 'lat', 'lon')\n",
            "  📦 File written to: /content/Results/Scen_UoA_PM25_SCA.Neigh.Add.XGB_CORR_YEARLY.nc\n",
            "\n",
            "✅ Batch process completed!\n",
            "  ➡ Variables reshaped: 6\n",
            "  ➡ Variables copied (already correct): 0\n"
          ]
        }
      ],
      "source": [
        "import netCDF4 as nc\n",
        "import numpy as np\n",
        "import os\n",
        "\n",
        "# === Ρυθμίσεις ===\n",
        "input_dir = \"/content/XGBSF\"\n",
        "output_dir = \"/content/Results\"\n",
        "variables_to_fix = [\"SURF_ug_NO2\", \"SURF_ppb_O3\", \"SURF_ug_PM25_rh50\"]\n",
        "correct_dims = (\"time\", \"lat\", \"lon\")\n",
        "os.makedirs(output_dir, exist_ok=True)\n",
        "\n",
        "reshaped_count = 0\n",
        "copied_count = 0\n",
        "\n",
        "for file in os.listdir(input_dir):\n",
        "    if file.endswith(\".nc\"):\n",
        "        input_path = os.path.join(input_dir, file)\n",
        "        output_path = os.path.join(output_dir, file)\n",
        "\n",
        "        print(f\"\\nProcessing: {file}\")\n",
        "\n",
        "        with nc.Dataset(input_path, \"r\") as src:\n",
        "            lon = src.variables[\"lon\"][:]\n",
        "            lat = src.variables[\"lat\"][:]\n",
        "            time = src.variables[\"time\"][:]\n",
        "            global_attrs = {attr: src.getncattr(attr) for attr in src.ncattrs()}\n",
        "\n",
        "            reshaped_vars = {}\n",
        "            copied_vars = {}\n",
        "\n",
        "            for var_name in variables_to_fix:\n",
        "                if var_name not in src.variables:\n",
        "                    print(f\"  ⚠ {var_name} not found in {file}. Skipping this variable.\")\n",
        "                    continue\n",
        "\n",
        "                dims = src.variables[var_name].dimensions\n",
        "                data = src.variables[var_name][:]\n",
        "                var_attrs = {attr: src.variables[var_name].getncattr(attr) for attr in src.variables[var_name].ncattrs()}\n",
        "\n",
        "                if dims != correct_dims:\n",
        "                    # === Εφαρμόζουμε reshape ===\n",
        "                    print(f\"  🔄 Reshaping {var_name}: {dims} -> {correct_dims}\")\n",
        "                    if dims == (\"lon\", \"lat\", \"time\"):\n",
        "                        data_reshaped = np.transpose(data, (2, 1, 0))\n",
        "                    elif dims == (\"lat\", \"lon\", \"time\"):\n",
        "                        data_reshaped = np.transpose(data, (2, 0, 1))\n",
        "                    else:\n",
        "                        print(f\"  ⚠ Unknown dims {dims} for {var_name}. Skipping this variable.\")\n",
        "                        continue\n",
        "                    reshaped_vars[var_name] = (data_reshaped, var_attrs)\n",
        "                else:\n",
        "                    # === Είναι ήδη σωστή, απλή αντιγραφή ===\n",
        "                    print(f\"  ✅ {var_name} already correct. Copying as-is.\")\n",
        "                    copied_vars[var_name] = (data, var_attrs)\n",
        "\n",
        "        # === Δημιουργία output NetCDF ===\n",
        "        with nc.Dataset(output_path, \"w\", format=\"NETCDF4\") as dst:\n",
        "            dst.createDimension(\"lon\", len(lon))\n",
        "            dst.createDimension(\"lat\", len(lat))\n",
        "            dst.createDimension(\"time\", None)\n",
        "\n",
        "            lon_var = dst.createVariable(\"lon\", \"f4\", (\"lon\",))\n",
        "            lat_var = dst.createVariable(\"lat\", \"f4\", (\"lat\",))\n",
        "            time_var = dst.createVariable(\"time\", \"f4\", (\"time\",))\n",
        "\n",
        "            lon_var[:] = lon\n",
        "            lat_var[:] = lat\n",
        "            time_var[:] = time\n",
        "\n",
        "            # === Global attributes ===\n",
        "            for attr, value in global_attrs.items():\n",
        "                dst.setncattr(attr, value)\n",
        "\n",
        "            # === Γράφουμε reshaped μεταβλητές ===\n",
        "            for var_name, (data_reshaped, var_attrs) in reshaped_vars.items():\n",
        "                fill_value = var_attrs.pop(\"_FillValue\", -9999.0)\n",
        "                var_out = dst.createVariable(var_name, \"f4\", correct_dims, fill_value=fill_value)\n",
        "                for attr, value in var_attrs.items():\n",
        "                    var_out.setncattr(attr, value)\n",
        "                var_out[:, :, :] = data_reshaped\n",
        "                reshaped_count += 1\n",
        "\n",
        "            # === Γράφουμε copied μεταβλητές ===\n",
        "            for var_name, (data_original, var_attrs) in copied_vars.items():\n",
        "                fill_value = var_attrs.pop(\"_FillValue\", -9999.0)\n",
        "                var_out = dst.createVariable(var_name, \"f4\", correct_dims, fill_value=fill_value)\n",
        "                for attr, value in var_attrs.items():\n",
        "                    var_out.setncattr(attr, value)\n",
        "                var_out[:, :, :] = data_original\n",
        "                copied_count += 1\n",
        "\n",
        "        print(f\"  📦 File written to: {output_path}\")\n",
        "\n",
        "# === Τελικό summary ===\n",
        "print(f\"\\n✅ Batch process completed!\")\n",
        "print(f\"  ➡ Variables reshaped: {reshaped_count}\")\n",
        "print(f\"  ➡ Variables copied (already correct): {copied_count}\")\n"
      ]
    }
  ]
}